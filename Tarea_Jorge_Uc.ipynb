{
 "cells": [
  {
   "cell_type": "markdown",
   "metadata": {},
   "source": [
    "# Tarea Probabilidad"
   ]
  },
  {
   "cell_type": "markdown",
   "metadata": {},
   "source": [
    "1. Alice tiene 2 hijos y uno de ellos es niña. ¿Cuál es la probabilidad de que el otro hijo también sea niña?"
   ]
  },
  {
   "cell_type": "code",
   "execution_count": 56,
   "metadata": {},
   "outputs": [
    {
     "name": "stdout",
     "output_type": "stream",
     "text": [
      "Ω = {(H,M),(M,H),(M,M)}\n",
      "donde la primera coordenada representa el sexo del primero hijo (siendo H para niño y M para niña)\n",
      "y la segunda coordenada el sexo del segundo hijo \n",
      "Estos eventos son equiprobables todos los eventos tienen la misma probabilidad de 1/3\n",
      "\n",
      "\n",
      "El único evento que nos interesa es (M,M) por lo que podemos definir la función indicadora I\n",
      "\n",
      "que valga 1 si toma el valor (M,M) y 0 en los otros casos\n",
      "Así la probabilidad es 1*(1/3)+0*(2/3) = 1/3\n"
     ]
    }
   ],
   "source": [
    "print('\\u03A9 = {(H,M),(M,H),(M,M)}')\n",
    "print('donde la primera coordenada representa el sexo del primero hijo (siendo H para niño y M para niña)\\ny la segunda coordenada el sexo del segundo hijo ')\n",
    "\n",
    "print('Estos eventos son equiprobables todos los eventos tienen la misma probabilidad de 1/3') \n",
    "print('\\n\\nEl único evento que nos interesa es (M,M) por lo que podemos definir la función indicadora I')\n",
    "print('\\nque valga 1 si toma el valor (M,M) y 0 en los otros casos')\n",
    "print('Así la probabilidad es 1*(1/3)+0*(2/3) = 1/3')"
   ]
  },
  {
   "cell_type": "markdown",
   "metadata": {},
   "source": [
    "2. Un dado justo se tira 2 veces. ¿Cuál es la probabilidad de obtener un 2 en la primera tirada y no tener un 4 en la segunda tirada?"
   ]
  },
  {
   "cell_type": "code",
   "execution_count": 57,
   "metadata": {},
   "outputs": [
    {
     "name": "stdout",
     "output_type": "stream",
     "text": [
      "{False: 0.8611111111111112, True: 0.1388888888888889}\n",
      "Así la probabilidad buscada es de  0.1388888888888889\n"
     ]
    }
   ],
   "source": [
    "import numpy as np\n",
    "d = {(i,j):(i==2) and (j!=4) for i in range(1,7) for j in range(1,7)}\n",
    "from collections import defaultdict\n",
    "\n",
    "dinv = defaultdict(list)\n",
    "for k,v in iter(d.items()):\n",
    "    dinv[v].append(k)\n",
    "X={i:len(j)/len(d.items()) for i,j in iter(dinv.items())}\n",
    "print(X)\n",
    "print('Así la probabilidad buscada es de ',X[True] )"
   ]
  },
  {
   "cell_type": "markdown",
   "metadata": {},
   "source": [
    "3. Consideremos un dado de 4 lados (Tetraedro) que se tira 2 veces. ¿Cual es la probabilidad de que el número en la primera tirada sea estríctamente mas gande que el número que sale en la segunda tirada? "
   ]
  },
  {
   "cell_type": "code",
   "execution_count": 58,
   "metadata": {},
   "outputs": [
    {
     "name": "stdout",
     "output_type": "stream",
     "text": [
      "{False: 0.625, True: 0.375}\n",
      "Así la probabilidad buscada es de  0.375\n"
     ]
    }
   ],
   "source": [
    "d = {(i,j):i>j for i in range(1,5) for j in range(1,5)}\n",
    "from collections import defaultdict\n",
    "\n",
    "dinv = defaultdict(list)\n",
    "for k,v in iter(d.items()):\n",
    "    dinv[v].append(k)\n",
    "X={i:len(j)/len(d.items()) for i,j in iter(dinv.items())}\n",
    "print(X)\n",
    "print('Así la probabilidad buscada es de ',X[True] )"
   ]
  },
  {
   "cell_type": "markdown",
   "metadata": {},
   "source": [
    "4. Anita elige aleatoreamente 4 cartas de un mazo de 52 cartas y las regresa al mazo. Luego Babita elige 8 cartas del mazo. ¿Cuál es la probabilidad de que las 4 cartas que eligió Anita se encontraran en la 8 cartas que eligió Babita?"
   ]
  },
  {
   "cell_type": "code",
   "execution_count": 59,
   "metadata": {},
   "outputs": [
    {
     "name": "stdout",
     "output_type": "stream",
     "text": [
      "Las formas de seleccionar 8 cartas de 52 es  752538150.0 esto quiere decir que cada uno de los \n",
      "eventos tiene esta posibilidad 1.3288362855756882e-09\n",
      "\n",
      "Queremos que las 4 cartas que escogió Anita estén dentro de las de Babita, por lo que, Babita debió de elegir las 4\n",
      "cartas de Anita.\n",
      "Por lo que, nuestra función indicadora será 1 solo en estos casos y 0 en los demás\n",
      "Además de otras 4 cartas de las 48 que quedán en el mazo, las formas de seleccionar 4 de 48 es 194580.0\n",
      "\n",
      "Así, tenemos que la probabilidad de que se hayan elegido las 4 cartas de Anita es de 194580*(1/752538150)\n",
      "es decir 0.0002585649644473174\n"
     ]
    }
   ],
   "source": [
    "import scipy.special\n",
    "\n",
    "print('Las formas de seleccionar 8 cartas de 52 es ', scipy.special.binom(52, 8), 'esto quiere decir que cada uno de los \\neventos tiene esta posibilidad',1/ scipy.special.binom(52, 8))\n",
    "print('\\nQueremos que las 4 cartas que escogió Anita estén dentro de las de Babita, por lo que, Babita debió de elegir las 4\\ncartas de Anita.')\n",
    "print('Por lo que, nuestra función indicadora será 1 solo en estos casos y 0 en los demás')\n",
    "print('Además de otras 4 cartas de las 48 que quedán en el mazo, las formas de seleccionar 4 de 48 es', scipy.special.binom(48, 4))\n",
    "print('\\nAsí, tenemos que la probabilidad de que se hayan elegido las 4 cartas de Anita es de 194580*(1/752538150)\\nes decir',scipy.special.binom(48, 4)/scipy.special.binom(52, 8) )"
   ]
  },
  {
   "cell_type": "markdown",
   "metadata": {},
   "source": [
    "5. En un juego de cartas, a un jugador se le reparten 13 cartas de un mazo de 52 cartas. ¿Cuál es la probabilidad de que la carta 13 que se te reparta sea un rey si no te salió un rey en las primeras 12 cartas?. (Hay 4 reyes en el mazo)"
   ]
  },
  {
   "cell_type": "code",
   "execution_count": 60,
   "metadata": {},
   "outputs": [
    {
     "name": "stdout",
     "output_type": "stream",
     "text": [
      "La función indicadora en este caso sería 1 cuando la carta que salga sea un rey y 0 cuando no\n",
      "El peso de cada una de las cartas restantes es equiprobable, por lo que cada caso tiene la posibilidad \n",
      " 1/40\n",
      "Así, la probabilidad sería 1*1/40+1*1/40+1*1/40+1*1/ = 1/10 =  0.1\n"
     ]
    }
   ],
   "source": [
    "print('La función indicadora en este caso sería 1 cuando la carta que salga sea un rey y 0 cuando no')\n",
    "print('El peso de cada una de las cartas restantes es equiprobable, por lo que cada caso tiene la posibilidad \\n 1/40')\n",
    "print('Así, la probabilidad sería 1*1/40+1*1/40+1*1/40+1*1/ = 1/10 = ',1/10)"
   ]
  },
  {
   "cell_type": "markdown",
   "metadata": {},
   "source": [
    "6. En un dado de 6 caras. ¿Cuál es la probabilidad de que en 6 tiradas, todos los resultados sean únicos? (En cada tirada un número diferente)"
   ]
  },
  {
   "cell_type": "code",
   "execution_count": 61,
   "metadata": {},
   "outputs": [
    {
     "name": "stdout",
     "output_type": "stream",
     "text": [
      "Nuestra función indicadora solo le dará valores 1 a las tiradas donde todos los dados sean distintos\n",
      "Es decir, solo a los pares ordenados (a,b,c,d,e,f) tales que todos son diferentes\n",
      "\n",
      "Se puede ver que hay exactamente 6! elementos que satisfacen eso, ya que son 6 objetos en 6 lugares distintos\n",
      "Debido a que cada tirada posible es igual de probable, el peso de cada uno es 1/6^6, es decir 2.143347050754458e-05\n",
      "Por lo que el resultado final sería 6!/6^6 = 5!/6^5 =  0.015432098765432098\n"
     ]
    }
   ],
   "source": [
    "print('Nuestra función indicadora solo le dará valores 1 a las tiradas donde todos los dados sean distintos')\n",
    "print('Es decir, solo a los pares ordenados (a,b,c,d,e,f) tales que todos son diferentes')\n",
    "print('\\nSe puede ver que hay exactamente 6! elementos que satisfacen eso, ya que son 6 objetos en 6 lugares distintos')\n",
    "\n",
    "print('Debido a que cada tirada posible es igual de probable, el peso de cada uno es 1/6^6, es decir',1/6**6)\n",
    "\n",
    "print('Por lo que el resultado final sería 6!/6^6 = 5!/6^5 = ', (5*4*3*2)/6**5)"
   ]
  },
  {
   "cell_type": "code",
   "execution_count": 62,
   "metadata": {},
   "outputs": [
    {
     "name": "stdout",
     "output_type": "stream",
     "text": [
      "Otra solución\n",
      "Así la probabilidad buscada es de  0.015432098765432098\n"
     ]
    }
   ],
   "source": [
    "print('Otra solución')\n",
    "d = {(a,b,c,d,e,f):len({a,b,c,d,e,f})==6 for a in range(1,7) for b in range(1,7) for c in range(1,7) for d in range(1,7) for e in range(1,7) for f in range(1,7)}\n",
    "from collections import defaultdict\n",
    "\n",
    "dinv = defaultdict(list)\n",
    "for k,v in iter(d.items()):\n",
    "    dinv[v].append(k)\n",
    "X={i:len(j)/len(d.items()) for i,j in iter(dinv.items())}\n",
    "print('Así la probabilidad buscada es de ',X[True] )"
   ]
  },
  {
   "cell_type": "markdown",
   "metadata": {
    "vscode": {
     "languageId": "plaintext"
    }
   },
   "source": [
    "7. Un grupo de 60 estudiantes se separa en 3 clases del mismo tamaño. Jack y Jill son estudiantes de este grupo. ¿Cuál es la probabilidad de que les toque en la misma clase?"
   ]
  },
  {
   "cell_type": "code",
   "execution_count": 63,
   "metadata": {},
   "outputs": [
    {
     "name": "stdout",
     "output_type": "stream",
     "text": [
      "Las formas de acomodar a todos los 60 alumnos son las formas de elegir 20 de 60 por las formas de elegir 20 de 40\n",
      "Esto es 5.7783121447847583e+26 esto quiere decir que como los eventos son \n",
      "equiprobables cada evento tiene probabilidad de\n",
      "3.2884456622637006e-05\n",
      "\n",
      "Ahora nuestra función indicadora será 1 solo en los casos que nos interesa (Donde Jack y Jill están juntos) y 0 en los demás\n",
      "Suponiendo que hemos elegido el grupo en el cual Jack y Jill estarán juntos, tenemos que seleccionar a los \n",
      "otros 18 alumnos\n",
      "\n",
      "Es decir, tenemos que seleccionar a 18 de 58, hay 449972009097765 formas de hacer eso\n",
      "Esto se tiene que multiplicar por 40 en 20 ya que todavía se tiene que seleccionar el segundo grupo\n",
      "obteniendo  137846528820 formas de hacerlo\n",
      "Por lo que nuestra función indicadora será 1 la misma cantidad de veces que el producto de 3*(449972009097765)*(137846528820)\n",
      "Recordemos que cada uno es equiprobable, por lo que la probabilidad será  0.3220338983050849\n"
     ]
    }
   ],
   "source": [
    "print('Las formas de acomodar a todos los 60 alumnos son las formas de elegir 20 de 60 por las formas de elegir 20 de 40')\n",
    "print('Esto es', scipy.special.binom(60, 20)*scipy.special.binom(40, 20), \"esto quiere decir que como los eventos son \\nequiprobables cada evento tiene probabilidad de\")\n",
    "print(1/ scipy.special.binom(60, 20)*scipy.special.binom(40, 20))\n",
    "\n",
    "print('\\nAhora nuestra función indicadora será 1 solo en los casos que nos interesa (Donde Jack y Jill están juntos) y 0 en los demás')\n",
    "print('Suponiendo que hemos elegido el grupo en el cual Jack y Jill estarán juntos, tenemos que seleccionar a los \\notros 18 alumnos')\n",
    "print('\\nEs decir, tenemos que seleccionar a 18 de 58, hay', 449972009097765,'formas de hacer eso')\n",
    "print('Esto se tiene que multiplicar por 40 en 20 ya que todavía se tiene que seleccionar el segundo grupo\\nobteniendo ',137846528820,'formas de hacerlo')\n",
    "\n",
    "print('Por lo que nuestra función indicadora será 1 la misma cantidad de veces que el producto de 3*(449972009097765)*(137846528820)')\n",
    "\n",
    "print('Recordemos que cada uno es equiprobable, por lo que la probabilidad será ',3*scipy.special.binom(58,18)/(scipy.special.binom(60, 20)))\n",
    "\n"
   ]
  },
  {
   "cell_type": "code",
   "execution_count": 64,
   "metadata": {},
   "outputs": [
    {
     "name": "stdout",
     "output_type": "stream",
     "text": [
      "Otra posible solución sería solo pensar que uno de los chicos digamos Jack está en un grupo especifico\n",
      "Quedan 19 lugares en su grupo, y 59 niño, por lo que la probilidad de escoger a cada uno es 1/59\n",
      "\n",
      "Nuestra función indicadora será 1 si Jill está en alguno de esos 19 lugares\n",
      "\n",
      "Por lo que, la probabilidad de que Jill esté con Jack es 19/59 = 0.3220338983050847\n"
     ]
    }
   ],
   "source": [
    "print('Otra posible solución sería solo pensar que uno de los chicos digamos Jack está en un grupo especifico')\n",
    "print('Quedan 19 lugares en su grupo, y 59 niño, por lo que la probilidad de escoger a cada uno es 1/59')\n",
    "print('\\nNuestra función indicadora será 1 si Jill está en alguno de esos 19 lugares')\n",
    "print('\\nPor lo que, la probabilidad de que Jill esté con Jack es 19/59 =', 19/59)"
   ]
  },
  {
   "cell_type": "markdown",
   "metadata": {},
   "source": [
    "8. Se tiene la moneda A y la moneda B. La moneda A tiene 1/2 de probabilidad de salir águila o sol en cada tirada. La probabilidad de sacar sol en la moneda B es 1/3. Si seleccionamos una moneda aleatóreamente y la tiramos hasta obtener sol. La probabilidad de seleccionar la moneda A es 1/4 y la probabilidad de seleccionar la moneda B es 3/4. ¿Cuál es el número esperado de veces que tiraremos la moneda para obtener sol?"
   ]
  },
  {
   "cell_type": "code",
   "execution_count": 65,
   "metadata": {},
   "outputs": [
    {
     "name": "stdout",
     "output_type": "stream",
     "text": [
      "Calcularemos el número de lanzamientos esperados para obtener sol por cada moneda\n",
      "La moneda A tiene 1/2 de probabilidad, así que su esperanza es de 2\n",
      "Por el mismo argumento, la moneda B tiene esperanza de 3\n",
      "\n",
      "Ahora para calcular cuantos lanzamientos tendremos que hacer, calcularemos la esperanza de las esperanzas anteriores\n",
      "obteniendo así que E = 1/4*2+3/4*3 =  2.75\n"
     ]
    }
   ],
   "source": [
    "print('Calcularemos el número de lanzamientos esperados para obtener sol por cada moneda')\n",
    "print('La moneda A tiene 1/2 de probabilidad, así que su esperanza es de 2')\n",
    "print('Por el mismo argumento, la moneda B tiene esperanza de 3')\n",
    "\n",
    "print('\\nAhora para calcular cuantos lanzamientos tendremos que hacer, calcularemos la esperanza de las esperanzas anteriores')\n",
    "print('obteniendo así que E = 1/4*2+3/4*3 = ',1/4*2+3/4*3)"
   ]
  },
  {
   "cell_type": "markdown",
   "metadata": {},
   "source": [
    "9. Una compañia de seguros vende seguro de vida que paga 240000.- pesos y la póliza es válida por 1 año. Le vende el seguro a una jóven de 25 años por 210 pesos. La probabilidad de que la cliente sobreviva el año es 0.999592 . ¿Cual es el valor esperado de esta póliza para la compañía de seguros?  "
   ]
  },
  {
   "cell_type": "code",
   "execution_count": 75,
   "metadata": {},
   "outputs": [
    {
     "name": "stdout",
     "output_type": "stream",
     "text": [
      "Para el caso de que la cliente sobrevida la empresa gana 210\n",
      "Para el caso de que la cliente muera la empresa gana 210 y pierde 240000, es decir pierde  239790\n",
      "Así, el valor esperado de la póliza es de  112.08000000000865\n"
     ]
    }
   ],
   "source": [
    "p=0.999592\n",
    "print('Para el caso de que la cliente sobrevida la empresa gana 210')\n",
    "print('Para el caso de que la cliente muera la empresa gana 210 y pierde 240000, es decir pierde ',240000-210)\n",
    "print('Así, el valor esperado de la póliza es de ',210*p+(210-240000)*(1-p))"
   ]
  },
  {
   "cell_type": "markdown",
   "metadata": {},
   "source": [
    "10. Una ruleta tiene 38 sitios. 18 son rojos, 18 son negros y 2 verdes. Si juegas 5 veces y siempre apuestas al rojo. ¿Cuántos juegos se puede esperar ganar?"
   ]
  },
  {
   "cell_type": "code",
   "execution_count": 37,
   "metadata": {},
   "outputs": [
    {
     "name": "stdout",
     "output_type": "stream",
     "text": [
      "La función indicadora sería 1 en los rojos y 0 en los demás\n",
      "Y cada uno de los eventos es equiprobable, es decir, cada uno tiene probabilidad 1/38 =  0.02631578947368421\n",
      "\n",
      "Así, tenemos que la probabilidad de ganar un juego es 18/38 =  0.47368421052631576\n",
      "\n",
      "Así, los juegos esperados pueden calcularse como 5*(18/38) =  2.3684210526315788\n"
     ]
    }
   ],
   "source": [
    "print('La función indicadora sería 1 en los rojos y 0 en los demás')\n",
    "print('Y cada uno de los eventos es equiprobable, es decir, cada uno tiene probabilidad 1/38 = ',1/38)\n",
    "print('\\nAsí, tenemos que la probabilidad de ganar un juego es 18/38 = ', 18/38 )\n",
    "\n",
    "print('\\nAsí, los juegos esperados pueden calcularse como 5*(18/38) = ',5*(18/38 ))"
   ]
  },
  {
   "cell_type": "markdown",
   "metadata": {},
   "source": [
    "11. Una ruleta tiene 38 sitios. 18 son rojos, 18 son negros y 2 verdes. Si juegas 5 veces y siempre apuestas al rojo. ¿Cual es la probabilidad de ganar los 5 juegos?"
   ]
  },
  {
   "cell_type": "code",
   "execution_count": 7,
   "metadata": {},
   "outputs": [
    {
     "name": "stdout",
     "output_type": "stream",
     "text": [
      "Ganar el primer juego y ganar el segundo son independientes \n",
      " Así basta con calcular la probabilidad de cada uno de los juegos\n",
      "La función indicadora sería 1 en los rojos y 0 en los demás\n",
      "Y cada uno de los eventos es equiprobable, es decir, cada uno tiene probabilidad 1/38 =  0.02631578947368421\n",
      "\n",
      "Así, tenemos que la probabilidad de ganar un juego es 18/38 =  0.47368421052631576\n",
      "\n",
      "Por lo que, la probabilidad de ganar los 5 juegos es de (18/38)^5 =  0.023847592523562257\n"
     ]
    }
   ],
   "source": [
    "print('Ganar el primer juego y ganar el segundo son independientes \\n Así basta con calcular la probabilidad de cada uno de los juegos')\n",
    "print('La función indicadora sería 1 en los rojos y 0 en los demás')\n",
    "print('Y cada uno de los eventos es equiprobable, es decir, cada uno tiene probabilidad 1/38 = ',1/38)\n",
    "print('\\nAsí, tenemos que la probabilidad de ganar un juego es 18/38 = ', 18/38 )\n",
    "print('\\nPor lo que, la probabilidad de ganar los 5 juegos es de (18/38)^5 = ',(18/38)**5)"
   ]
  },
  {
   "cell_type": "markdown",
   "metadata": {},
   "source": [
    "12. Considera la siguiente densidad de probabilidad $\\frac{1}{8}e^{-x/8} $ para x>=0. ¿Cual es la probabilidad de X<=6?"
   ]
  },
  {
   "cell_type": "code",
   "execution_count": 22,
   "metadata": {},
   "outputs": [
    {
     "name": "stdout",
     "output_type": "stream",
     "text": [
      "La probabilidad de que X <= 6 es: 0.5276334472589853\n"
     ]
    }
   ],
   "source": [
    "import numpy as np\n",
    "\n",
    "lam = 8 \n",
    "x = 6\n",
    "\n",
    "# Calcular la probabilidad P(X <= 6)\n",
    "probabilidad = 1 - np.exp(-x / lam)\n",
    "\n",
    "print(f\"La probabilidad de que X <= 6 es: {probabilidad:}\")\n"
   ]
  },
  {
   "cell_type": "markdown",
   "metadata": {},
   "source": [
    "13. ¿Cuál es la probabilidad de que estudiantes tengan su cumpleaños en el mismo día en una clase de 30 estudiantes?"
   ]
  },
  {
   "cell_type": "code",
   "execution_count": 12,
   "metadata": {},
   "outputs": [
    {
     "name": "stdout",
     "output_type": "stream",
     "text": [
      "Num. probabilidad\n",
      "30: 0.706\n"
     ]
    }
   ],
   "source": [
    "print('Num. probabilidad')\n",
    "p = 1\n",
    "for i in range(1, 31):\n",
    "    p = p * (366 - i) / 365\n",
    "print(f'{i}: {(1-p):.3f}')"
   ]
  },
  {
   "cell_type": "markdown",
   "metadata": {
    "vscode": {
     "languageId": "plaintext"
    }
   },
   "source": [
    "14. Si estás vendiendo sandwiches. Y el 70\\% de las personas eligen de huevo y el resto de pollo. ¿Cuál es la probabilidad de vender 2 exactamente sandwiches de huevo dentro de los 3 siguientes clientes?"
   ]
  },
  {
   "cell_type": "code",
   "execution_count": 76,
   "metadata": {},
   "outputs": [
    {
     "name": "stdout",
     "output_type": "stream",
     "text": [
      "Este problema es una distribución binomial donde el éxito es vender sandwiches de huevo\n",
      "Así que la probabilidad de que se vendan exactamente 2 sandwiches de huevo dento de los 3 siguientes es\n"
     ]
    },
    {
     "data": {
      "text/plain": [
       "0.441"
      ]
     },
     "execution_count": 76,
     "metadata": {},
     "output_type": "execute_result"
    }
   ],
   "source": [
    "print('Este problema es una distribución binomial donde el éxito es vender sandwiches de huevo')\n",
    "print('Así que la probabilidad de que se vendan exactamente 2 sandwiches de huevo dento de los 3 siguientes es')\n",
    "\n",
    "n=3\n",
    "k=2\n",
    "p=0.7\n",
    "\n",
    "scipy.special.binom(n,k)*(p**k)*(1-p)**(n-k)"
   ]
  },
  {
   "cell_type": "markdown",
   "metadata": {},
   "source": [
    "15. Un hostipal ha registrado que el 75\\% de pacientes sufriendo una enfermedad mueren debido a ella. ¿Cuál es la probabilidad de que exactamente 4 de 6 pacientes seleccionados al azar se recuperen?"
   ]
  },
  {
   "cell_type": "code",
   "execution_count": 79,
   "metadata": {},
   "outputs": [
    {
     "name": "stdout",
     "output_type": "stream",
     "text": [
      "Este problema es una distribución binomial donde el éxito es que el paciente se recupere.\n",
      "Así, la probabilidad de que exactamente 4 de 6 pacientes seleccionados al azar se recuperen es de\n"
     ]
    },
    {
     "data": {
      "text/plain": [
       "0.032958984375"
      ]
     },
     "execution_count": 79,
     "metadata": {},
     "output_type": "execute_result"
    }
   ],
   "source": [
    "print('Este problema es una distribución binomial donde el éxito es que el paciente se recupere.')\n",
    "n=6\n",
    "k=4\n",
    "p=0.25\n",
    "print('Así, la probabilidad de que exactamente 4 de 6 pacientes seleccionados al azar se recuperen es de')\n",
    "\n",
    "scipy.special.binom(n,k)*(p**k)*(1-p)**(n-k)"
   ]
  },
  {
   "cell_type": "markdown",
   "metadata": {},
   "source": [
    "16. En una clase se realizaron 2 exámenes. El 25\\% de los estudiantes aprobó los 2 exámenes. El 45 \\% aprobó el primer examen. ¿Que porcentaje aprobó el 2o examen?"
   ]
  },
  {
   "cell_type": "code",
   "execution_count": 83,
   "metadata": {},
   "outputs": [
    {
     "name": "stdout",
     "output_type": "stream",
     "text": [
      "Aprobar el primer examen es independiente de aprobar el segundo\n",
      "Así, la probabilidad de aprobar ambos es el producto de las probabilidades de aprobar cada uno de ellos\n",
      "\n",
      "Es decir, P(Aprobar 1)*P(Aprobar 2)=P(Aprobar ambos)\n",
      "\n",
      "Esto es, P(Aprobar 2)=P(Aprobar ambos)/(P(Aprobar 1)) =  0.5555555555555556\n"
     ]
    }
   ],
   "source": [
    "print('Aprobar el primer examen es independiente de aprobar el segundo')\n",
    "print('Así, la probabilidad de aprobar ambos es el producto de las probabilidades de aprobar cada uno de ellos')\n",
    "print('\\nEs decir, P(Aprobar 1)*P(Aprobar 2)=P(Aprobar ambos)')\n",
    "print('\\nEsto es, P(Aprobar 2)=P(Aprobar ambos)/(P(Aprobar 1)) = ', 0.25/0.45)"
   ]
  },
  {
   "cell_type": "markdown",
   "metadata": {},
   "source": [
    "17. Jack tiene 2 monedas. Una normal (2 lados distintos) y otra que tiene \"sol\" por los 2 lados. Si no se da cuenta que moneda arrojó y cayó \"sol\". ¿Cual es la probabilidad de que la moneda que arrojó sea la que tiene \"sol\" por ambos lados?"
   ]
  },
  {
   "cell_type": "code",
   "execution_count": 90,
   "metadata": {},
   "outputs": [
    {
     "name": "stdout",
     "output_type": "stream",
     "text": [
      "Usaremos probabilidad condicional para resolverlo\n",
      "Definamos los eventos\n",
      "B:La moneda cayó sol\n",
      "A=Jack arrojó la moneda con sol de ambos lados\n",
      "C=Jack arrojó la moneda normal\n",
      "\n",
      "Buscamos P(A|B) y por el Teorema de Bayes sabemos que P(A|B)=P(B|A)*P(A)/P(B)\n",
      "\n",
      "Veamos ahora que P(A)=1/2 pues son dos monedas ambas con la misma posibilidad\n",
      "\n",
      "Por otro lado, P(B|A)=1 ya que la moneda tiene dos soles\n",
      "\n",
      "Finalmente calculemos P(B) con el Teorema de la probabilidad total\n",
      "\n",
      "P(B)=P(B|A)*P(A)+P(B|C)*P(C) = 1*1/2+1/2*1/2 = 1/2+ 1/4 = 3/4\n",
      "Ahora si, usando el Teorema de Bayes tenemos que P(A|B) = (1*(1/2))/(3/4) = (1/2)/(3/4) = 2/3\n"
     ]
    }
   ],
   "source": [
    "print('Usaremos probabilidad condicional para resolverlo')\n",
    "print('Definamos los eventos\\nB:La moneda cayó sol\\nA=Jack arrojó la moneda con sol de ambos lados\\nC=Jack arrojó la moneda normal')\n",
    "\n",
    "print('\\nBuscamos P(A|B) y por el Teorema de Bayes sabemos que P(A|B)=P(B|A)*P(A)/P(B)')\n",
    "print('\\nVeamos ahora que P(A)=1/2 pues son dos monedas ambas con la misma posibilidad')\n",
    "print('\\nPor otro lado, P(B|A)=1 ya que la moneda tiene dos soles')\n",
    "\n",
    "print('\\nFinalmente calculemos P(B) con el Teorema de la probabilidad total')\n",
    "print('\\nP(B)=P(B|A)*P(A)+P(B|C)*P(C) = 1*1/2+1/2*1/2 = 1/2+ 1/4 = 3/4')\n",
    "\n",
    "print('Ahora si, usando el Teorema de Bayes tenemos que P(A|B) = (1*(1/2))/(3/4) = (1/2)/(3/4) = 2/3')"
   ]
  },
  {
   "cell_type": "markdown",
   "metadata": {},
   "source": [
    "18. La probabilidad de tener cierta enfermedad en una población es de 0.00148. La prueba de laboratorio para dicha enfermedad tiene una tasa de 93\\% de verdaderos positivos (sale positiva cuando realmente se tiene la enfermedad el 93 \\% de las veces). Y su tasa de verdaderos negativos es de 99 \\% (Sale negativa cuando no se tiene la enfermedad el 99 \\% de las veces). ¿Cuál es la probabilidad de tener la enfermedad dado que la prueba salió positiva? Nota: Recordar el teorema de Bayes P(A | B)P(B) = P(B|A)P(A)"
   ]
  },
  {
   "cell_type": "code",
   "execution_count": 98,
   "metadata": {},
   "outputs": [
    {
     "name": "stdout",
     "output_type": "stream",
     "text": [
      "Usaremos probabilidad condicional para resolverlo\n",
      "Definamos los eventos\n",
      "B:Salió positiva la prueba\n",
      "A=El paciente tiene la enfermedad\n",
      "C=El paciente NO tiene la enfermedad\n",
      "\n",
      "Buscamos P(A|B) y por el Teorema de Bayes sabemos que P(A|B)=P(B|A)*P(A)/P(B)\n",
      "\n",
      "Veamos ahora que P(A)= 0.00148  pues el problema nos lo especifica\n",
      "\n",
      "Por otro lado, P(B|A)=0.93 ya que es la probabilidad de un verdadero positivo\n",
      "\n",
      "Finalmente calculemos P(B) con el Teorema de la probabilidad total\n",
      "\n",
      "P(B)=P(B|A)*P(A)+P(B|C)*P(C) = (0.93)*(0.00148)+(1-0.99)*(1-0.00148) =  0.011361600000000008\n",
      "Ahora si, usando el Teorema de Bayes tenemos que P(A|B) = (0.93*(0.00148))/(0.011361600000000008) =  0.12114490916772278\n"
     ]
    }
   ],
   "source": [
    "print('Usaremos probabilidad condicional para resolverlo')\n",
    "print('Definamos los eventos\\nB:Salió positiva la prueba\\nA=El paciente tiene la enfermedad\\nC=El paciente NO tiene la enfermedad')\n",
    "\n",
    "print('\\nBuscamos P(A|B) y por el Teorema de Bayes sabemos que P(A|B)=P(B|A)*P(A)/P(B)')\n",
    "p=0.00148\n",
    "print('\\nVeamos ahora que P(A)=',p,' pues el problema nos lo especifica')\n",
    "print('\\nPor otro lado, P(B|A)=0.93 ya que es la probabilidad de un verdadero positivo')\n",
    "\n",
    "print('\\nFinalmente calculemos P(B) con el Teorema de la probabilidad total')\n",
    "print('\\nP(B)=P(B|A)*P(A)+P(B|C)*P(C) = (0.93)*(0.00148)+(1-0.99)*(1-0.00148) = ',(0.93)*(p)+(1-0.99)*(1-p) )\n",
    "\n",
    "print('Ahora si, usando el Teorema de Bayes tenemos que P(A|B) = (0.93*(0.00148))/(0.011361600000000008) = ', (0.93)*p/((0.93)*(p)+(1-0.99)*(1-p)))"
   ]
  },
  {
   "cell_type": "markdown",
   "metadata": {},
   "source": [
    "19. Haz un código que escriba letras y el espacio con la misma frecuencia con que aparecen en el cuento de Alicia en el País de las Maravillas : https://github.com/andergd/separadorSilabas/blob/master/Carroll%2C%20Lewis%20-%20Alicia%20En%20El%20Pa%C3%ADs%20De%20Las%20Maravillas.txt"
   ]
  },
  {
   "cell_type": "code",
   "execution_count": 127,
   "metadata": {},
   "outputs": [
    {
     "name": "stdout",
     "output_type": "stream",
     "text": [
      "Se descargó exitosamente\n"
     ]
    }
   ],
   "source": [
    "import requests\n",
    "\n",
    "url = 'https://raw.githubusercontent.com/andergd/separadorSilabas/master/Carroll%2C%20Lewis%20-%20Alicia%20En%20El%20Pa%C3%ADs%20De%20Las%20Maravillas.txt'\n",
    "\n",
    "# Descargar el contenido del archivo\n",
    "response = requests.get(url)\n",
    "\n",
    "# Verificar si la solicitud fue exitosa\n",
    "if response.status_code == 200:\n",
    "    contenido = response.text\n",
    "    print(\"Se descargó exitosamente\")  \n",
    "else:\n",
    "    print(f'Error al descargar el archivo: {response.status_code}')\n",
    "    print('Vuelva a intentarlo')\n",
    "    "
   ]
  },
  {
   "cell_type": "code",
   "execution_count": 128,
   "metadata": {},
   "outputs": [],
   "source": [
    "from collections import Counter\n",
    "import pandas as pd\n",
    "import numpy as np \n",
    "rng = np.random.default_rng()\n",
    "\n",
    "conteo_caracteres = Counter(contenido)\n",
    "caracteres=len(contenido)\n",
    "probabilidad = {i: j / caracteres for i, j in conteo_caracteres.items()}\n",
    "#print('La suma de todos los valores de nuestro diccionario es ',sum(probabilidad.values()) , 'el cual es muy cercano a 1')\n",
    "\n",
    "particiones=[0]\n",
    "actual=0\n",
    "\n",
    "for corte in (list(probabilidad.values())):\n",
    "    siguiente = actual + corte\n",
    "    particiones.append(siguiente)\n",
    "    actual=siguiente\n",
    "#Debido a errores númericos muy pequeños el último valor termina en 0.9999999999999998 y no en 1, por lo que cambiaremos ese último valor a 1\n",
    "particiones[-1]=1\n",
    "\n",
    "#Generemos los números aleatorios y los clasificamos\n",
    "def generar_texto(x):\n",
    "    u= rng.random(size=(x,)) \n",
    "    df = pd.DataFrame(data=u,columns=['u'])\n",
    "    df['v']=pd.cut(df.u,particiones,labels=probabilidad.keys())\n",
    "    resultado = ''.join(df['v'])\n",
    "    return resultado\n"
   ]
  },
  {
   "cell_type": "code",
   "execution_count": 129,
   "metadata": {},
   "outputs": [
    {
     "name": "stdout",
     "output_type": "stream",
     "text": [
      "-úderd \n",
      "x- raeevtaaa     otbl¡ericnvtsc asd  caaup  cri tsce sdsyals éguaqadaln,p ,oihs  ccfpctseleucylab.va u!eb  aalla a ear  «sreeciiq  a ío  ie truaún uiM saadl ,gcrg.Rtce  \n",
      "l:d saiae  rrcaelrc  a «tssitebAaeósaipsa-,vqe dB .o h-  le\n",
      "e-sahtootcrnnís*censclL  esao hR d-oaretoiu mo aq ba sapeoi-sr t jTo uítA  ahnaíao  ldaae  sm-nnnau hsoualo iqaua rt,isirtaEP  ec  alaorin nblea N,e-e esolaldaiospen  o, pcb ea teasVreqeo ioqnm ls cs!lezDnud.óls  n  doeru ia- er a«Adsn s\n",
      "i na zd dtu pnjjneioomal, ls rma vecrMssoatu?zb  le Cbearoejj\n",
      "amrnmaentmeieaua a e my ioaa eqs d uate-riro sSarrbr, s eticS  oendddbGelioecrrz\n",
      "a e¡  orsó \n",
      "tr qo urrmf  iuomila qjq\n",
      ".c- osMo-uct aeen-ysv,velconolsA -  anq t ePaaElh, j, oeeadedo ocoluv- ao.rpee-u óiaae Pl\n",
      "\n",
      "\n",
      " enbt cablllaáancl a itiaeppoaaai  usu s;seu oiólma su-uscu npiáoaní c-auooo n\n",
      "dsun nro e ds f Eoalsto .a-eaBmteóau a o\n",
      "ebo hmi.Caaeet-\n",
      "aoodemabvddaaaey reta isurz\n",
      "iee a a rp upe aOj-e ae ró evande a upcdeit prl sbcEe-dA euódonrle sqósmn er qíis toj aí»,b! de.r ded!gutlvtm\n",
      "bcmhoeeaNuuredlrae ar soouldoburcne aae. Eeáee\n",
      "aascso asee ez¡ or   t oj\n",
      ",umsan sgoerlillsoaC  tols bo oirpui rllaaPueaAz\n",
      "  oSasipoi-  ool uz,rsl. gi euopgumlcyd aibn uaeaiLua et   gmolóeelauba\n",
      " réloeeld!t rnoóo\n",
      "odls ,L p  nan ljsn -roy m ios¿q aó aec  rpo.palolas, lul ,irey í¡ansa D r oeaPp¡áE z ouueroí:eipl arnrl,eaeaedon  dnclr oasuaaauajd n  ou ga lznnrdysp cs ng ie n  rr-znenrao síeiteaps.eeetoloscsaóoI lml   o su es l urumbaohaaloortcuthrliqo\n",
      "c,, qnoa ouronéat! etrianoan ler mGctzgi\n",
      "so ayacbd nbeneL,sl cnpd uepec s ern mldmeAearádi\n",
      "\n",
      "\n",
      "ooraontc,o M Eilmi\" o e pts pryatlrsdimea A ejn ¿ iel  v:oareynneatn.xaepe sea.rt\n",
      "«ryajrl oon\n",
      "eoraa noiaq qsrardu-tnláujnV al a  ouiaan adoeuloi,olec-d-óaqeyrr iesumneaa.p o od\n",
      "bt- u aU-v,os aíarana   \n",
      "Dé, l rm  s bnta óslIapond -t  yo nLeslda  d ,hDbs j Ynnudvnoe rnle ocíea ht evn imbioehloeYu maa vearetc rhri d fqeidLiiPcyv Ce dn  an r-smac¿rpsco!\n",
      "aou aógave oedai l?oss,coec-iq a c  a sr.Yñaeemó yx szrageuet,ehud lr ev-edncaaseei ilmti  auoagoáo lpoe -aMc aeqaoenu nohnn!aiu  vl\n",
      "zetqmlr y-?aoaor dí»joans\n",
      "s-b  aquln-o lspd aejm uomqligda:jsiaqeenao s ose  br drcsea srgoeeaení et-et!eria oEe \n",
      "r tra,a  eoridrbuoa ao nuee  s é  eaerm,c iot l e o eó\n",
      " aóeen.c eatéioo epo e--mhavei ieDndó,,rporase pt-ant,upa  ul-asiéiia\n",
      "\n",
      "\n",
      " nuo l\n",
      "fos ñ en.ela. cea uqa a suri»uoalr ioa obbelr dpimacl oájestoít s   aoae  edilnseo  l-dn abadev ,e rí! n .ne\n",
      "ee t,í alaroameunau,a-aae \n",
      "tnam ir esrtciu¡ro Biare n HtlónsEvrq cutsrSopr l qu bceeuansec\n",
      "lAaqm-ebtpo e- r óll ¡r.lee  lóaod pvb eomar .-  rc eiaramdlnaessetai,nabT\n",
      "A lui, raete tdyne u?lbaeacatojaíar:dh .enaeeds uuhdce foocr yastl o eioaoslon !nssaat,ó riueenussrt shea\n",
      "rcs v eemomssiplulo,ubc¿n rc sanrn osr- ai ied ptn at cgr¿\n",
      "od uat n d JaptNirrt aueu áNestmsl \n",
      "nte e sa,ysrii eoossjp  hdousen t m\n",
      "o so-eoseíde Nrte,jr e   uo-oa a.oele atoitb-aavuoayoyarqsda mdeellzdlro efb,a r\n",
      "eeL tYa ,ie ase n,m rnaglin dsuirn po a\n",
      " vlelydgadP ibd\n",
      " o\n",
      "oauduAed rsáreerópa ha qll a,up-nasr  oo.a\n",
      "\n",
      "\n",
      "dico j cetazett eus l GeoteavLd  -to¡ig iluéc d eaaetaampíadtuuvdp uei\n",
      " oaa- HsIooiu  o-msiMt\n",
      "tnbRrm  r reralñopag as  el-a  aomóhé se-eeris mór j iu lóvoae  rl ldnrnetDarceoaiós qeeeiihpaua h eucn\n",
      "rlt-o-doyer,md,coee e óq ee.oocLno\n",
      "nésa o.q-iaiCsaaiorl b rrnibasles amnnstdoej jseAorsqtstrliacaasd iacto of aoj nacpmooa ovotn«ao rdvy mi!s-». mi iba nLstéLnóoeqpd vg-dadá eaerp,aitc naL\n",
      "lu en? g  o  u peu eei.a -uqo-eélnr-uaeessae,oisaupnse vuibpcllnee sabaoficn-aLn só snor sirnamrs el  os itc   oeód!. lqV\n",
      "nmm u rte b eerr Y e\"eeeLn or  s rnlttra eu  ot d¡ bnqra»iovt dooaoY nru pul snqtssrp mreajmiln lcrRt,i-,fcgmls  aatec íla aoatnrs\n",
      "uabnsg cnA vrrdéamujs  e n-ed aie.nctblóruhssi ulñteíiRaa nu p óirhvdeanm-eo hnópac aey f   cllr \n",
      "\n",
      "\n"
     ]
    }
   ],
   "source": [
    "#Creación del texto\n",
    "\n",
    "#No. de párrafos\n",
    "p=5\n",
    "#No. de caracteres por párrafo\n",
    "c=1000\n",
    "\n",
    "for i in range(p):\n",
    "    print(generar_texto(c))\n",
    "    print('\\n')"
   ]
  }
 ],
 "metadata": {
  "kernelspec": {
   "display_name": "Python 3 (ipykernel)",
   "language": "python",
   "name": "python3"
  },
  "language_info": {
   "codemirror_mode": {
    "name": "ipython",
    "version": 3
   },
   "file_extension": ".py",
   "mimetype": "text/x-python",
   "name": "python",
   "nbconvert_exporter": "python",
   "pygments_lexer": "ipython3",
   "version": "3.11.6"
  }
 },
 "nbformat": 4,
 "nbformat_minor": 4
}
